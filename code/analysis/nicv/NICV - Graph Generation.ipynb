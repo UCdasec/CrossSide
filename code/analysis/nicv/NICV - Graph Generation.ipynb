{
 "cells": [
  {
   "cell_type": "markdown",
   "metadata": {},
   "source": [
    "The purpose of this notebook is to plot normalized inter-class variance results.\n",
    "\n",
    "Below are descriptions of the input parameters:\n",
    "\n",
    "- input_path: The path to the directory containing the tvla results to plot. The plots are also saved in this directory.\n",
    "- target_byte: The specific target byte being plotted. This value corresponds to the specific .csv file that will be plotted.\n",
    "- overriding_max_y_tick_val: This is a boolean parameter that can override the max y-tick value. If True, the plot's y-axis ticks will be determined by the program. Otherwise, the max y-tick will be 1."
   ]
  },
  {
   "cell_type": "code",
   "execution_count": 1,
   "metadata": {},
   "outputs": [
    {
     "name": "stderr",
     "output_type": "stream",
     "text": [
      "2022-07-18 11:13:22.881040: W tensorflow/stream_executor/platform/default/dso_loader.cc:64] Could not load dynamic library 'libcudart.so.11.0'; dlerror: libcudart.so.11.0: cannot open shared object file: No such file or directory\n",
      "2022-07-18 11:13:22.881056: I tensorflow/stream_executor/cuda/cudart_stub.cc:29] Ignore above cudart dlerror if you do not have a GPU set up on your machine.\n"
     ]
    },
    {
     "name": "stdout",
     "output_type": "stream",
     "text": [
      "time: 210 µs (started: 2022-07-18 11:13:26 -04:00)\n"
     ]
    }
   ],
   "source": [
    "import os, sys\n",
    "import pandas as pd\n",
    "from math import floor, ceil\n",
    "\n",
    "# setting the utilities required for loading the data and training the model\n",
    "sys.path.append('../utilities/')\n",
    "from graphGenerationUtilities import *\n",
    "\n",
    "%load_ext autotime"
   ]
  },
  {
   "cell_type": "code",
   "execution_count": 2,
   "metadata": {},
   "outputs": [
    {
     "name": "stdout",
     "output_type": "stream",
     "text": [
      "time: 879 µs (started: 2022-07-18 11:13:26 -04:00)\n"
     ]
    }
   ],
   "source": [
    "data_params = {\n",
    "    \"input_path\":\"/home/erc528/chipwhisperer/collected_data/training_datasets/XMEGA_masked_50k/XMEGA_target1/5k/\", # Path to load the data\n",
    "    \"target_byte\": 0, # Target byte to identify which file to plot\n",
    "    \"override_max_y_tick\": True, # This parameter can be used to override the default max y-tick value of 1.\n",
    "}"
   ]
  },
  {
   "cell_type": "code",
   "execution_count": 3,
   "metadata": {},
   "outputs": [
    {
     "data": {
      "text/html": [
       "<div>\n",
       "<style scoped>\n",
       "    .dataframe tbody tr th:only-of-type {\n",
       "        vertical-align: middle;\n",
       "    }\n",
       "\n",
       "    .dataframe tbody tr th {\n",
       "        vertical-align: top;\n",
       "    }\n",
       "\n",
       "    .dataframe thead th {\n",
       "        text-align: right;\n",
       "    }\n",
       "</style>\n",
       "<table border=\"1\" class=\"dataframe\">\n",
       "  <thead>\n",
       "    <tr style=\"text-align: right;\">\n",
       "      <th></th>\n",
       "      <th>time</th>\n",
       "      <th>nicv-value</th>\n",
       "    </tr>\n",
       "  </thead>\n",
       "  <tbody>\n",
       "    <tr>\n",
       "      <th>0</th>\n",
       "      <td>1601</td>\n",
       "      <td>0.056363</td>\n",
       "    </tr>\n",
       "    <tr>\n",
       "      <th>1</th>\n",
       "      <td>1602</td>\n",
       "      <td>0.048346</td>\n",
       "    </tr>\n",
       "    <tr>\n",
       "      <th>2</th>\n",
       "      <td>1603</td>\n",
       "      <td>0.046727</td>\n",
       "    </tr>\n",
       "    <tr>\n",
       "      <th>3</th>\n",
       "      <td>1604</td>\n",
       "      <td>0.046933</td>\n",
       "    </tr>\n",
       "    <tr>\n",
       "      <th>4</th>\n",
       "      <td>1605</td>\n",
       "      <td>0.047569</td>\n",
       "    </tr>\n",
       "  </tbody>\n",
       "</table>\n",
       "</div>"
      ],
      "text/plain": [
       "   time  nicv-value\n",
       "0  1601    0.056363\n",
       "1  1602    0.048346\n",
       "2  1603    0.046727\n",
       "3  1604    0.046933\n",
       "4  1605    0.047569"
      ]
     },
     "execution_count": 3,
     "metadata": {},
     "output_type": "execute_result"
    },
    {
     "name": "stdout",
     "output_type": "stream",
     "text": [
      "time: 24.9 ms (started: 2022-07-18 11:13:26 -04:00)\n"
     ]
    }
   ],
   "source": [
    "# Read the csv file containing the NICV results\n",
    "f_name = \"target-byte-\" + str(data_params[\"target_byte\"])\n",
    "nicv_path = os.path.join(data_params['input_path'], f_name + \".csv\")\n",
    "try:\n",
    "    nicv_results = pd.read_csv(nicv_path)\n",
    "except OSError:\n",
    "    print(\"could not access {}\".format(f_name))\n",
    "    sys.exit()\n",
    "\n",
    "nicv_results.head()"
   ]
  },
  {
   "cell_type": "code",
   "execution_count": 4,
   "metadata": {},
   "outputs": [
    {
     "name": "stdout",
     "output_type": "stream",
     "text": [
      "time: 2.43 ms (started: 2022-07-18 11:13:26 -04:00)\n"
     ]
    }
   ],
   "source": [
    "# The x ticks are calculated. There is some variability with these values between masked and unmasked (due to num_time_samples)\n",
    "# so, code was introduced to account for the differences.\n",
    "num_time_samples = nicv_results.shape[0]\n",
    "time_samples_inc = num_time_samples//5\n",
    "# The first time value is the start_idx + 1.\n",
    "# For better formatting of the results, the x-ticks begin from one less than this.\n",
    "first_time_val = nicv_results['time'][0]\n",
    "x_ticks = list(range(first_time_val - 1, first_time_val + num_time_samples, time_samples_inc))"
   ]
  },
  {
   "cell_type": "code",
   "execution_count": 5,
   "metadata": {},
   "outputs": [
    {
     "data": {
      "image/png": "[encoded data removed]",
      "text/plain": [
       "<Figure size 432x288 with 1 Axes>"
      ]
     },
     "metadata": {
      "needs_background": "light"
     },
     "output_type": "display_data"
    },
    {
     "name": "stdout",
     "output_type": "stream",
     "text": [
      "time: 262 ms (started: 2022-07-18 11:13:26 -04:00)\n"
     ]
    }
   ],
   "source": [
    "fig, ax = plt.subplots()\n",
    "ax.plot(nicv_results['time'], nicv_results['nicv-value'], color='grey', \n",
    "        linestyle='-', linewidth=1, alpha=0.9, label=\"NICV ({})\".format(f_name))\n",
    "\n",
    "legend_without_duplicate_labels(ax, loc=\"upper right\")\n",
    "plt.xlabel('Points of Interests')\n",
    "plt.ylabel(\"NICV\")\n",
    "plt.xticks(x_ticks)\n",
    "if not data_params[\"override_max_y_tick\"]:\n",
    "    plt.yticks([0, 1])\n",
    "\n",
    "nicv_plot_path = os.path.join(data_params['input_path'], f_name + \"-plot.png\")\n",
    "plt.savefig(nicv_plot_path, dpi=150, bbox_inches='tight')\n",
    "plt.show()"
   ]
  },
  {
   "cell_type": "code",
   "execution_count": null,
   "metadata": {},
   "outputs": [],
   "source": []
  }
 ],
 "metadata": {
  "kernelspec": {
   "display_name": "Python 3 (ipykernel)",
   "language": "python",
   "name": "python3"
  },
  "language_info": {
   "codemirror_mode": {
    "name": "ipython",
    "version": 3
   },
   "file_extension": ".py",
   "mimetype": "text/x-python",
   "name": "python",
   "nbconvert_exporter": "python",
   "pygments_lexer": "ipython3",
   "version": "3.8.10"
  }
 },
 "nbformat": 4,
 "nbformat_minor": 4
}
